{
 "cells": [
  {
   "cell_type": "markdown",
   "id": "efeadceb",
   "metadata": {},
   "source": [
    "# Project: [Auto Mpg data Analysis]\n",
    "## Table of Contents\n",
    "<ul>\n",
    "<li><a href=\"#Intro\">Introduction</a></li>\n",
    "<li><a href=\"#Exploring\">Exploring</a></li>\n",
    "<li><a href=\"#Exploring Summary\">Exploring Summary</a></li>\n",
    "<li><a href=\"#Cleaning\">Data Manipulation</a></li>    \n",
    "<li><a href=\"#Visualize\">visualization</a></li>\n",
    "<li><a href=\"#Conclusion\">Conclusion</a></li>\n",
    "  \n",
    "</ul>"
   ]
  },
  {
   "cell_type": "markdown",
   "id": "b230d49e",
   "metadata": {},
   "source": [
    "<a id='intro'></a>\n",
    "\n",
    "\n",
    "## Introduction\n",
    "\n",
    "### Dataset Description \n",
    "\n",
    "> `mpg` Miles per galon of fuel\n",
    "\n",
    "> `cylinders` Number of engine cylinders .A cylinder is a crucial part of the engine where fuel is combusted and power is generated. It consists of a piston, an inlet, and exhaust valves at the top.\n",
    "\n",
    ">`Horsepower` Refers to the power an engine produces. \n",
    "\n",
    "> `weight`: Weight of car\n",
    "\n",
    ">`Acceleration`: The acceleration an engine can get per second\n",
    "\n",
    ">`model year`  Car release year from 1970 to 1982\n",
    "\n",
    ">`origin` Car manufacturing place (1 -> USA, 2 -> Europe, 3 -> Asia) \n",
    "\n",
    ">`car name`:Car model name (unique for each instance)\n"
   ]
  },
  {
   "cell_type": "markdown",
   "id": "11ac2644",
   "metadata": {},
   "source": [
    "*The data is from https://www.kaggle.com/uciml/autompg-dataset*"
   ]
  },
  {
   "cell_type": "markdown",
   "id": "3af17ee5",
   "metadata": {},
   "source": [
    "# Setting up the notebook"
   ]
  },
  {
   "cell_type": "code",
   "execution_count": 1,
   "id": "9f09794c",
   "metadata": {},
   "outputs": [],
   "source": [
    "import pandas as pd\n",
    "import numpy as np\n",
    "import matplotlib.pyplot as plt\n",
    "%matplotlib inline\n",
    "import seaborn as sns\n",
    "import warnings\n",
    "warnings.filterwarnings('ignore') \n",
    "import plotly.express as px\n",
    "sns.set_style(\"darkgrid\")\n",
    "sns.set_context(\"poster\")"
   ]
  },
  {
   "cell_type": "code",
   "execution_count": 2,
   "id": "de4fd714",
   "metadata": {},
   "outputs": [],
   "source": [
    "# Loading data\n",
    "df=pd.read_csv(\"auto-mpg.csv\")"
   ]
  },
  {
   "cell_type": "markdown",
   "id": "2008f173",
   "metadata": {},
   "source": [
    "<a id='Exploring'></a>\n",
    "# Exploring Data\n",
    "## I will check the  things below to Understand the Dataset:\n",
    "\n",
    "* shape of our dataset\n",
    "* Head of the dataset\n",
    "* Number of samples and columns in each dataset\n",
    "* Duplicate rows in each dataset\n",
    "* Datatypes of columns\n",
    "* Features with missing values\n",
    "* Number of non-null unique values for features in each dataset\n",
    "* What those unique values are and counts for each"
   ]
  },
  {
   "cell_type": "code",
   "execution_count": 3,
   "id": "99fba418",
   "metadata": {},
   "outputs": [
    {
     "data": {
      "text/plain": [
       "(398, 9)"
      ]
     },
     "execution_count": 3,
     "metadata": {},
     "output_type": "execute_result"
    }
   ],
   "source": [
    "# One of the most important thing to have a look at is the dimension of the data frame so let's view it.\n",
    "df.shape"
   ]
  },
  {
   "cell_type": "markdown",
   "id": "fda62392",
   "metadata": {},
   "source": [
    "###  Based on the cell above \n",
    "#### The data set being  has**`398 records/cells`**  and **`9 columns/variables`**in our data frame."
   ]
  },
  {
   "cell_type": "code",
   "execution_count": 4,
   "id": "0d80abb1",
   "metadata": {},
   "outputs": [
    {
     "data": {
      "text/html": [
       "<div>\n",
       "<style scoped>\n",
       "    .dataframe tbody tr th:only-of-type {\n",
       "        vertical-align: middle;\n",
       "    }\n",
       "\n",
       "    .dataframe tbody tr th {\n",
       "        vertical-align: top;\n",
       "    }\n",
       "\n",
       "    .dataframe thead th {\n",
       "        text-align: right;\n",
       "    }\n",
       "</style>\n",
       "<table border=\"1\" class=\"dataframe\">\n",
       "  <thead>\n",
       "    <tr style=\"text-align: right;\">\n",
       "      <th></th>\n",
       "      <th>mpg</th>\n",
       "      <th>cylinders</th>\n",
       "      <th>displacement</th>\n",
       "      <th>horsepower</th>\n",
       "      <th>weight</th>\n",
       "      <th>acceleration</th>\n",
       "      <th>model year</th>\n",
       "      <th>origin</th>\n",
       "      <th>car name</th>\n",
       "    </tr>\n",
       "  </thead>\n",
       "  <tbody>\n",
       "    <tr>\n",
       "      <th>0</th>\n",
       "      <td>18.0</td>\n",
       "      <td>8</td>\n",
       "      <td>307.0</td>\n",
       "      <td>130</td>\n",
       "      <td>3504</td>\n",
       "      <td>12.0</td>\n",
       "      <td>70</td>\n",
       "      <td>1</td>\n",
       "      <td>chevrolet chevelle malibu</td>\n",
       "    </tr>\n",
       "    <tr>\n",
       "      <th>1</th>\n",
       "      <td>15.0</td>\n",
       "      <td>8</td>\n",
       "      <td>350.0</td>\n",
       "      <td>165</td>\n",
       "      <td>3693</td>\n",
       "      <td>11.5</td>\n",
       "      <td>70</td>\n",
       "      <td>1</td>\n",
       "      <td>buick skylark 320</td>\n",
       "    </tr>\n",
       "    <tr>\n",
       "      <th>2</th>\n",
       "      <td>18.0</td>\n",
       "      <td>8</td>\n",
       "      <td>318.0</td>\n",
       "      <td>150</td>\n",
       "      <td>3436</td>\n",
       "      <td>11.0</td>\n",
       "      <td>70</td>\n",
       "      <td>1</td>\n",
       "      <td>plymouth satellite</td>\n",
       "    </tr>\n",
       "    <tr>\n",
       "      <th>3</th>\n",
       "      <td>16.0</td>\n",
       "      <td>8</td>\n",
       "      <td>304.0</td>\n",
       "      <td>150</td>\n",
       "      <td>3433</td>\n",
       "      <td>12.0</td>\n",
       "      <td>70</td>\n",
       "      <td>1</td>\n",
       "      <td>amc rebel sst</td>\n",
       "    </tr>\n",
       "    <tr>\n",
       "      <th>4</th>\n",
       "      <td>17.0</td>\n",
       "      <td>8</td>\n",
       "      <td>302.0</td>\n",
       "      <td>140</td>\n",
       "      <td>3449</td>\n",
       "      <td>10.5</td>\n",
       "      <td>70</td>\n",
       "      <td>1</td>\n",
       "      <td>ford torino</td>\n",
       "    </tr>\n",
       "  </tbody>\n",
       "</table>\n",
       "</div>"
      ],
      "text/plain": [
       "    mpg  cylinders  displacement horsepower  weight  acceleration  model year  \\\n",
       "0  18.0          8         307.0        130    3504          12.0          70   \n",
       "1  15.0          8         350.0        165    3693          11.5          70   \n",
       "2  18.0          8         318.0        150    3436          11.0          70   \n",
       "3  16.0          8         304.0        150    3433          12.0          70   \n",
       "4  17.0          8         302.0        140    3449          10.5          70   \n",
       "\n",
       "   origin                   car name  \n",
       "0       1  chevrolet chevelle malibu  \n",
       "1       1          buick skylark 320  \n",
       "2       1         plymouth satellite  \n",
       "3       1              amc rebel sst  \n",
       "4       1                ford torino  "
      ]
     },
     "execution_count": 4,
     "metadata": {},
     "output_type": "execute_result"
    }
   ],
   "source": [
    "# taking a look at the data\n",
    "df.head() # by default will print 5 obs"
   ]
  },
  {
   "cell_type": "code",
   "execution_count": 5,
   "id": "26924539",
   "metadata": {},
   "outputs": [
    {
     "name": "stdout",
     "output_type": "stream",
     "text": [
      "<class 'pandas.core.frame.DataFrame'>\n",
      "RangeIndex: 398 entries, 0 to 397\n",
      "Data columns (total 9 columns):\n",
      " #   Column        Non-Null Count  Dtype  \n",
      "---  ------        --------------  -----  \n",
      " 0   mpg           398 non-null    float64\n",
      " 1   cylinders     398 non-null    int64  \n",
      " 2   displacement  398 non-null    float64\n",
      " 3   horsepower    398 non-null    object \n",
      " 4   weight        398 non-null    int64  \n",
      " 5   acceleration  398 non-null    float64\n",
      " 6   model year    398 non-null    int64  \n",
      " 7   origin        398 non-null    int64  \n",
      " 8   car name      398 non-null    object \n",
      "dtypes: float64(3), int64(4), object(2)\n",
      "memory usage: 28.1+ KB\n"
     ]
    }
   ],
   "source": [
    "# To check the Information about the data to see the name of the variables, how many nonmissing values in each variables and data types of those variable. Also the dimentions of tha data frame.\n",
    "df.info()"
   ]
  },
  {
   "cell_type": "code",
   "execution_count": 6,
   "id": "8bc132e6",
   "metadata": {},
   "outputs": [
    {
     "data": {
      "text/plain": [
       "Index(['mpg', 'cylinders', 'displacement', 'horsepower', 'weight',\n",
       "       'acceleration', 'model year', 'origin', 'car name'],\n",
       "      dtype='object')"
      ]
     },
     "execution_count": 6,
     "metadata": {},
     "output_type": "execute_result"
    }
   ],
   "source": [
    "#Check column names\n",
    "df.columns"
   ]
  },
  {
   "cell_type": "code",
   "execution_count": 7,
   "id": "08e4ae4d",
   "metadata": {},
   "outputs": [
    {
     "data": {
      "text/plain": [
       "0"
      ]
     },
     "execution_count": 7,
     "metadata": {},
     "output_type": "execute_result"
    }
   ],
   "source": [
    "# Check if the data contain duplicated row or not \n",
    "df.duplicated().sum()"
   ]
  },
  {
   "cell_type": "markdown",
   "id": "f7a0bae8",
   "metadata": {},
   "source": [
    "<a id='Exploring Summary'></a>\n",
    "## Exploring Summary\n",
    "\n",
    "### From the above I noticed that :\n",
    "#####  There is Nothing missing values!\n",
    "\n",
    "##### Although the values in `Horsepower` column we saw above were clearly numbers , the column is object and not a float or int,now we have to be a little bit suspicious about something. The variable is most likely to have some non-numeric items,So, Let's look at the unique elements of horsepower to look for discrepancies. \n",
    "##### There is Nothing duplicated values!\n",
    "##### The `Origin` column would need to be parsed and casted into a categorical datatype."
   ]
  },
  {
   "cell_type": "markdown",
   "id": "b9c88866",
   "metadata": {},
   "source": [
    "<a id='cleaning'></a>\n",
    "\n",
    "## Data Manipulation :\n",
    "\n",
    "Sometimes the data that we have is not the data we need or can use directly. For example, we may have some missing values, or different type of alphabets, unmatching date types, etc,so I'd perform cleaning operations ,which would help me to reach a more accurate result in creating meaningful and informative visualizations."
   ]
  },
  {
   "cell_type": "markdown",
   "id": "e323614b",
   "metadata": {},
   "source": [
    "> ### Removing spaces from column names :"
   ]
  },
  {
   "cell_type": "code",
   "execution_count": 8,
   "id": "ede6f12a",
   "metadata": {},
   "outputs": [
    {
     "data": {
      "text/plain": [
       "Index(['mpg', 'cylinders', 'displacement', 'horsepower', 'weight',\n",
       "       'acceleration', 'model_year', 'origin', 'car_name'],\n",
       "      dtype='object')"
      ]
     },
     "execution_count": 8,
     "metadata": {},
     "output_type": "execute_result"
    }
   ],
   "source": [
    "df.columns=df.columns.str.replace(' ','_')\n",
    "df.columns"
   ]
  },
  {
   "cell_type": "markdown",
   "id": "72c933fb",
   "metadata": {},
   "source": [
    "> ### clean `horsepower` column :"
   ]
  },
  {
   "cell_type": "code",
   "execution_count": 9,
   "id": "5064280f",
   "metadata": {},
   "outputs": [
    {
     "data": {
      "text/plain": [
       "array(['130', '165', '150', '140', '198', '220', '215', '225', '190',\n",
       "       '170', '160', '95', '97', '85', '88', '46', '87', '90', '113',\n",
       "       '200', '210', '193', '?', '100', '105', '175', '153', '180', '110',\n",
       "       '72', '86', '70', '76', '65', '69', '60', '80', '54', '208', '155',\n",
       "       '112', '92', '145', '137', '158', '167', '94', '107', '230', '49',\n",
       "       '75', '91', '122', '67', '83', '78', '52', '61', '93', '148',\n",
       "       '129', '96', '71', '98', '115', '53', '81', '79', '120', '152',\n",
       "       '102', '108', '68', '58', '149', '89', '63', '48', '66', '139',\n",
       "       '103', '125', '133', '138', '135', '142', '77', '62', '132', '84',\n",
       "       '64', '74', '116', '82'], dtype=object)"
      ]
     },
     "execution_count": 9,
     "metadata": {},
     "output_type": "execute_result"
    }
   ],
   "source": [
    "#Let's have a look at all the unique values stored in 'horsepower' variable.\n",
    "df['horsepower'].unique()"
   ]
  },
  {
   "cell_type": "code",
   "execution_count": 10,
   "id": "0d2bd6b8",
   "metadata": {},
   "outputs": [
    {
     "data": {
      "text/plain": [
       "6"
      ]
     },
     "execution_count": 10,
     "metadata": {},
     "output_type": "execute_result"
    }
   ],
   "source": [
    "(df[\"horsepower\"]=='?').sum()"
   ]
  },
  {
   "cell_type": "markdown",
   "id": "b32b8c41",
   "metadata": {},
   "source": [
    " > * `horsepower` column contain 6 `?`, and that is what is giving us the object data type instead of int."
   ]
  },
  {
   "cell_type": "code",
   "execution_count": 11,
   "id": "91e567af",
   "metadata": {},
   "outputs": [
    {
     "data": {
      "text/plain": [
       "0"
      ]
     },
     "execution_count": 11,
     "metadata": {},
     "output_type": "execute_result"
    }
   ],
   "source": [
    "df['horsepower']=pd.to_numeric(df['horsepower'],errors='coerce')\n",
    "(df[\"horsepower\"]=='?').sum()"
   ]
  },
  {
   "cell_type": "markdown",
   "id": "98468627",
   "metadata": {},
   "source": [
    "> ##### Let's make a median imputation for those '?', then convert 'horsepower' to integers."
   ]
  },
  {
   "cell_type": "code",
   "execution_count": 12,
   "id": "39f361f7",
   "metadata": {},
   "outputs": [],
   "source": [
    "# fill 'NaN' value with median\n",
    "df['horsepower'].fillna(df['horsepower'].median(), inplace=True)"
   ]
  },
  {
   "cell_type": "code",
   "execution_count": 13,
   "id": "c61fda8a",
   "metadata": {},
   "outputs": [],
   "source": [
    "# fill '?' value with mode\n",
    "# df[\"horsepower\"].replace('?',(df[\"horsepower\"].mode()[0]),inplace=True)\n",
    "# confirming changes\n",
    "#(df[\"horsepower\"]=='?').sum()"
   ]
  },
  {
   "cell_type": "code",
   "execution_count": 14,
   "id": "e1a083e0",
   "metadata": {},
   "outputs": [
    {
     "data": {
      "text/plain": [
       "dtype('int32')"
      ]
     },
     "execution_count": 14,
     "metadata": {},
     "output_type": "execute_result"
    }
   ],
   "source": [
    "df[\"horsepower\"]=df[\"horsepower\"].astype(\"int\")\n",
    "# confirming changes\n",
    "df[\"horsepower\"].dtypes"
   ]
  },
  {
   "cell_type": "markdown",
   "id": "8ea9c8c5",
   "metadata": {},
   "source": [
    "> ### clean `origin` column:\n",
    ">> * According to the provided description (1 -> `USA`, 2 -> `Europe`, 3 -> `Asia`)"
   ]
  },
  {
   "cell_type": "code",
   "execution_count": 15,
   "id": "2d57e3b4",
   "metadata": {},
   "outputs": [],
   "source": [
    "df['origin']=df['origin'].replace(1,\"USA\")\n",
    "df['origin']=df['origin'].replace(2,\"Europe\")\n",
    "df['origin']=df['origin'].replace(3,\"Asia\")"
   ]
  },
  {
   "cell_type": "code",
   "execution_count": 16,
   "id": "8d9ab3a2",
   "metadata": {},
   "outputs": [
    {
     "data": {
      "text/plain": [
       "USA       249\n",
       "Asia       79\n",
       "Europe     70\n",
       "Name: origin, dtype: int64"
      ]
     },
     "execution_count": 16,
     "metadata": {},
     "output_type": "execute_result"
    }
   ],
   "source": [
    "# casting its datatype as category\n",
    "df['origin'] = df['origin'].astype('category')\n",
    "# confirming changes\n",
    "df['origin'].value_counts()"
   ]
  },
  {
   "cell_type": "code",
   "execution_count": 17,
   "id": "f33b6e0b",
   "metadata": {},
   "outputs": [
    {
     "data": {
      "text/plain": [
       "mpg             False\n",
       "cylinders       False\n",
       "displacement    False\n",
       "horsepower      False\n",
       "weight          False\n",
       "acceleration    False\n",
       "model_year      False\n",
       "origin          False\n",
       "car_name        False\n",
       "dtype: bool"
      ]
     },
     "execution_count": 17,
     "metadata": {},
     "output_type": "execute_result"
    }
   ],
   "source": [
    "df.isnull().any()"
   ]
  },
  {
   "cell_type": "markdown",
   "id": "3ff14aa2",
   "metadata": {},
   "source": [
    "Now, data is cleaning and ready for the next step `EDA`to get some meaningful insights!\n",
    ">\n",
    ">- There is No wrong data type\n",
    ">- There is No NaN values \n",
    ">- All columns are cleaning "
   ]
  },
  {
   "cell_type": "markdown",
   "id": "e4139b8b",
   "metadata": {},
   "source": [
    "### More on Impressions:\n",
    "##### We have seen what we firstly had to see, now it is time to have some numerical impressions.\n",
    "\n",
    "###### Personally, I prefer to see the summary statistics of the data set.\n",
    "\n",
    "###### Quick question: What does summary statistics mean ???\n",
    "\n",
    "###### Summary statistics provide statistical information about your data set. count, Mean, standard deviation, range, minimum-maximum pointsand quantiles of each numeric variable are summarize your data, give statistical insight of your data.\n"
   ]
  },
  {
   "cell_type": "code",
   "execution_count": 18,
   "id": "3f4a784c",
   "metadata": {},
   "outputs": [
    {
     "data": {
      "text/html": [
       "<div>\n",
       "<style scoped>\n",
       "    .dataframe tbody tr th:only-of-type {\n",
       "        vertical-align: middle;\n",
       "    }\n",
       "\n",
       "    .dataframe tbody tr th {\n",
       "        vertical-align: top;\n",
       "    }\n",
       "\n",
       "    .dataframe thead th {\n",
       "        text-align: right;\n",
       "    }\n",
       "</style>\n",
       "<table border=\"1\" class=\"dataframe\">\n",
       "  <thead>\n",
       "    <tr style=\"text-align: right;\">\n",
       "      <th></th>\n",
       "      <th>count</th>\n",
       "      <th>mean</th>\n",
       "      <th>std</th>\n",
       "      <th>min</th>\n",
       "      <th>25%</th>\n",
       "      <th>50%</th>\n",
       "      <th>75%</th>\n",
       "      <th>max</th>\n",
       "    </tr>\n",
       "  </thead>\n",
       "  <tbody>\n",
       "    <tr>\n",
       "      <th>mpg</th>\n",
       "      <td>398.0</td>\n",
       "      <td>23.51</td>\n",
       "      <td>7.82</td>\n",
       "      <td>9.0</td>\n",
       "      <td>17.50</td>\n",
       "      <td>23.0</td>\n",
       "      <td>29.00</td>\n",
       "      <td>46.6</td>\n",
       "    </tr>\n",
       "    <tr>\n",
       "      <th>cylinders</th>\n",
       "      <td>398.0</td>\n",
       "      <td>5.45</td>\n",
       "      <td>1.70</td>\n",
       "      <td>3.0</td>\n",
       "      <td>4.00</td>\n",
       "      <td>4.0</td>\n",
       "      <td>8.00</td>\n",
       "      <td>8.0</td>\n",
       "    </tr>\n",
       "    <tr>\n",
       "      <th>displacement</th>\n",
       "      <td>398.0</td>\n",
       "      <td>193.43</td>\n",
       "      <td>104.27</td>\n",
       "      <td>68.0</td>\n",
       "      <td>104.25</td>\n",
       "      <td>148.5</td>\n",
       "      <td>262.00</td>\n",
       "      <td>455.0</td>\n",
       "    </tr>\n",
       "    <tr>\n",
       "      <th>horsepower</th>\n",
       "      <td>398.0</td>\n",
       "      <td>104.30</td>\n",
       "      <td>38.22</td>\n",
       "      <td>46.0</td>\n",
       "      <td>76.00</td>\n",
       "      <td>93.0</td>\n",
       "      <td>125.00</td>\n",
       "      <td>230.0</td>\n",
       "    </tr>\n",
       "    <tr>\n",
       "      <th>weight</th>\n",
       "      <td>398.0</td>\n",
       "      <td>2970.42</td>\n",
       "      <td>846.84</td>\n",
       "      <td>1613.0</td>\n",
       "      <td>2223.75</td>\n",
       "      <td>2803.5</td>\n",
       "      <td>3608.00</td>\n",
       "      <td>5140.0</td>\n",
       "    </tr>\n",
       "    <tr>\n",
       "      <th>acceleration</th>\n",
       "      <td>398.0</td>\n",
       "      <td>15.57</td>\n",
       "      <td>2.76</td>\n",
       "      <td>8.0</td>\n",
       "      <td>13.82</td>\n",
       "      <td>15.5</td>\n",
       "      <td>17.18</td>\n",
       "      <td>24.8</td>\n",
       "    </tr>\n",
       "    <tr>\n",
       "      <th>model_year</th>\n",
       "      <td>398.0</td>\n",
       "      <td>76.01</td>\n",
       "      <td>3.70</td>\n",
       "      <td>70.0</td>\n",
       "      <td>73.00</td>\n",
       "      <td>76.0</td>\n",
       "      <td>79.00</td>\n",
       "      <td>82.0</td>\n",
       "    </tr>\n",
       "  </tbody>\n",
       "</table>\n",
       "</div>"
      ],
      "text/plain": [
       "              count     mean     std     min      25%     50%      75%     max\n",
       "mpg           398.0    23.51    7.82     9.0    17.50    23.0    29.00    46.6\n",
       "cylinders     398.0     5.45    1.70     3.0     4.00     4.0     8.00     8.0\n",
       "displacement  398.0   193.43  104.27    68.0   104.25   148.5   262.00   455.0\n",
       "horsepower    398.0   104.30   38.22    46.0    76.00    93.0   125.00   230.0\n",
       "weight        398.0  2970.42  846.84  1613.0  2223.75  2803.5  3608.00  5140.0\n",
       "acceleration  398.0    15.57    2.76     8.0    13.82    15.5    17.18    24.8\n",
       "model_year    398.0    76.01    3.70    70.0    73.00    76.0    79.00    82.0"
      ]
     },
     "execution_count": 18,
     "metadata": {},
     "output_type": "execute_result"
    }
   ],
   "source": [
    "# Now everything looks in order so lets continue, let's describe the dataset\n",
    "df.describe().T.round(2)"
   ]
  },
  {
   "cell_type": "markdown",
   "id": "54cf26cc",
   "metadata": {},
   "source": [
    "#### After seeing summary statistics for each variables seperately, the correlations of the variables is what we may wish to see before going into detail. To achieve a correlation matrix, all you need to use corr() function. This function will return a matrix where you can see correlation values between 2 variables."
   ]
  },
  {
   "cell_type": "code",
   "execution_count": 19,
   "id": "12eb2c41",
   "metadata": {},
   "outputs": [
    {
     "data": {
      "text/html": [
       "<div>\n",
       "<style scoped>\n",
       "    .dataframe tbody tr th:only-of-type {\n",
       "        vertical-align: middle;\n",
       "    }\n",
       "\n",
       "    .dataframe tbody tr th {\n",
       "        vertical-align: top;\n",
       "    }\n",
       "\n",
       "    .dataframe thead th {\n",
       "        text-align: right;\n",
       "    }\n",
       "</style>\n",
       "<table border=\"1\" class=\"dataframe\">\n",
       "  <thead>\n",
       "    <tr style=\"text-align: right;\">\n",
       "      <th></th>\n",
       "      <th>mpg</th>\n",
       "      <th>cylinders</th>\n",
       "      <th>displacement</th>\n",
       "      <th>horsepower</th>\n",
       "      <th>weight</th>\n",
       "      <th>acceleration</th>\n",
       "      <th>model_year</th>\n",
       "    </tr>\n",
       "  </thead>\n",
       "  <tbody>\n",
       "    <tr>\n",
       "      <th>mpg</th>\n",
       "      <td>1.000000</td>\n",
       "      <td>-0.775396</td>\n",
       "      <td>-0.804203</td>\n",
       "      <td>-0.773522</td>\n",
       "      <td>-0.831741</td>\n",
       "      <td>0.420289</td>\n",
       "      <td>0.579267</td>\n",
       "    </tr>\n",
       "    <tr>\n",
       "      <th>cylinders</th>\n",
       "      <td>-0.775396</td>\n",
       "      <td>1.000000</td>\n",
       "      <td>0.950721</td>\n",
       "      <td>0.841367</td>\n",
       "      <td>0.896017</td>\n",
       "      <td>-0.505419</td>\n",
       "      <td>-0.348746</td>\n",
       "    </tr>\n",
       "    <tr>\n",
       "      <th>displacement</th>\n",
       "      <td>-0.804203</td>\n",
       "      <td>0.950721</td>\n",
       "      <td>1.000000</td>\n",
       "      <td>0.895849</td>\n",
       "      <td>0.932824</td>\n",
       "      <td>-0.543684</td>\n",
       "      <td>-0.370164</td>\n",
       "    </tr>\n",
       "    <tr>\n",
       "      <th>horsepower</th>\n",
       "      <td>-0.773522</td>\n",
       "      <td>0.841367</td>\n",
       "      <td>0.895849</td>\n",
       "      <td>1.000000</td>\n",
       "      <td>0.862502</td>\n",
       "      <td>-0.686676</td>\n",
       "      <td>-0.413816</td>\n",
       "    </tr>\n",
       "    <tr>\n",
       "      <th>weight</th>\n",
       "      <td>-0.831741</td>\n",
       "      <td>0.896017</td>\n",
       "      <td>0.932824</td>\n",
       "      <td>0.862502</td>\n",
       "      <td>1.000000</td>\n",
       "      <td>-0.417457</td>\n",
       "      <td>-0.306564</td>\n",
       "    </tr>\n",
       "    <tr>\n",
       "      <th>acceleration</th>\n",
       "      <td>0.420289</td>\n",
       "      <td>-0.505419</td>\n",
       "      <td>-0.543684</td>\n",
       "      <td>-0.686676</td>\n",
       "      <td>-0.417457</td>\n",
       "      <td>1.000000</td>\n",
       "      <td>0.288137</td>\n",
       "    </tr>\n",
       "    <tr>\n",
       "      <th>model_year</th>\n",
       "      <td>0.579267</td>\n",
       "      <td>-0.348746</td>\n",
       "      <td>-0.370164</td>\n",
       "      <td>-0.413816</td>\n",
       "      <td>-0.306564</td>\n",
       "      <td>0.288137</td>\n",
       "      <td>1.000000</td>\n",
       "    </tr>\n",
       "  </tbody>\n",
       "</table>\n",
       "</div>"
      ],
      "text/plain": [
       "                   mpg  cylinders  displacement  horsepower    weight  \\\n",
       "mpg           1.000000  -0.775396     -0.804203   -0.773522 -0.831741   \n",
       "cylinders    -0.775396   1.000000      0.950721    0.841367  0.896017   \n",
       "displacement -0.804203   0.950721      1.000000    0.895849  0.932824   \n",
       "horsepower   -0.773522   0.841367      0.895849    1.000000  0.862502   \n",
       "weight       -0.831741   0.896017      0.932824    0.862502  1.000000   \n",
       "acceleration  0.420289  -0.505419     -0.543684   -0.686676 -0.417457   \n",
       "model_year    0.579267  -0.348746     -0.370164   -0.413816 -0.306564   \n",
       "\n",
       "              acceleration  model_year  \n",
       "mpg               0.420289    0.579267  \n",
       "cylinders        -0.505419   -0.348746  \n",
       "displacement     -0.543684   -0.370164  \n",
       "horsepower       -0.686676   -0.413816  \n",
       "weight           -0.417457   -0.306564  \n",
       "acceleration      1.000000    0.288137  \n",
       "model_year        0.288137    1.000000  "
      ]
     },
     "execution_count": 19,
     "metadata": {},
     "output_type": "execute_result"
    }
   ],
   "source": [
    "df.corr()"
   ]
  },
  {
   "cell_type": "markdown",
   "id": "32d46f00",
   "metadata": {},
   "source": [
    "#### For better eye view, let's visualize it."
   ]
  },
  {
   "cell_type": "code",
   "execution_count": 20,
   "id": "aeefaa8d",
   "metadata": {},
   "outputs": [
    {
     "data": {
      "image/png": "[encoded data removed]",
      "text/plain": [
       "<Figure size 1080x720 with 2 Axes>"
      ]
     },
     "metadata": {},
     "output_type": "display_data"
    }
   ],
   "source": [
    "#Heat map Corr will state more insights \n",
    "f, ax = plt.subplots(figsize= [15, 10])\n",
    "ax.set_title(\"Correlation Matrix\", fontsize=30)\n",
    "sns.heatmap(df.corr(),annot=True);"
   ]
  },
  {
   "cell_type": "markdown",
   "id": "3fdbdfad",
   "metadata": {},
   "source": [
    "> ##### From abave the displacement, horsepower and weight have strong negative relationship, which might consist multicolinearity within them. Also, acceleration is not much signifcant in predicting mpg."
   ]
  },
  {
   "cell_type": "markdown",
   "id": "dd86cb9c",
   "metadata": {},
   "source": [
    "<a id='visualize'></a>\n",
    "## Time to visulization\n",
    "#### In this section, I will use some informative visuals to help in drawing insights and conclusions about  data and also helping in EDA"
   ]
  },
  {
   "cell_type": "code",
   "execution_count": 21,
   "id": "f6309255",
   "metadata": {},
   "outputs": [
    {
     "data": {
      "image/png": "[encoded data removed]",
      "text/plain": [
       "<Figure size 1080x936 with 12 Axes>"
      ]
     },
     "metadata": {},
     "output_type": "display_data"
    }
   ],
   "source": [
    "# Exploring the range and distribution of numerical Variables \n",
    "sns.set_palette(\"RdBu_r\")\n",
    "fig, ax = plt.subplots(6, 2, figsize = (15, 13))\n",
    "sns.boxplot(x= df[\"mpg\"], ax = ax[0,0])\n",
    "sns.distplot(df['mpg'], ax = ax[0,1])\n",
    "\n",
    "sns.boxplot(x= df[\"cylinders\"], ax = ax[1,0])\n",
    "sns.distplot(df['cylinders'], ax = ax[1,1])\n",
    "\n",
    "sns.boxplot(x= df[\"displacement\"], ax = ax[2,0])\n",
    "sns.distplot(df['displacement'], ax = ax[2,1])\n",
    "\n",
    "sns.boxplot(x= df[\"horsepower\"], ax = ax[3,0])\n",
    "sns.distplot(df['horsepower'], ax = ax[3,1])\n",
    "\n",
    "sns.boxplot(x= df[\"weight\"], ax = ax[4,0])\n",
    "sns.distplot(df['weight'], ax = ax[4,1])\n",
    "\n",
    "sns.boxplot(x= df[\"acceleration\"], ax = ax[5,0])\n",
    "sns.distplot(df['acceleration'], ax = ax[5,1])\n",
    "\n",
    "plt.tight_layout()"
   ]
  },
  {
   "cell_type": "markdown",
   "id": "97273698",
   "metadata": {},
   "source": [
    "> lets find out more information from these 7 charts\n",
    ">##### Year on Year Manufacturers have focussed on increasing the mileage of the engines.\n",
    ">####  Nobody manufactures `7` cylinder. \n",
    ">#### `4` cylinder has better mileage performance than other and most manufactured one.\n",
    ">##### `8` cylinder engines have low mileage count.\n",
    ">##### `Displacement`, `weight`, `horsepower` are inversely related to mileage so more of them means low `mileage`.\n"
   ]
  },
  {
   "cell_type": "code",
   "execution_count": 22,
   "id": "d964be34",
   "metadata": {
    "scrolled": true
   },
   "outputs": [
    {
     "data": {
      "text/plain": [
       "array(['chevrolet chevelle malibu', 'buick skylark 320',\n",
       "       'plymouth satellite', 'amc rebel sst', 'ford torino',\n",
       "       'ford galaxie 500', 'chevrolet impala', 'plymouth fury iii',\n",
       "       'pontiac catalina', 'amc ambassador dpl', 'dodge challenger se',\n",
       "       \"plymouth 'cuda 340\", 'chevrolet monte carlo',\n",
       "       'buick estate wagon (sw)', 'toyota corona mark ii',\n",
       "       'plymouth duster', 'amc hornet', 'ford maverick', 'datsun pl510',\n",
       "       'volkswagen 1131 deluxe sedan', 'peugeot 504', 'audi 100 ls',\n",
       "       'saab 99e', 'bmw 2002', 'amc gremlin', 'ford f250', 'chevy c20',\n",
       "       'dodge d200', 'hi 1200d', 'chevrolet vega 2300', 'toyota corona',\n",
       "       'ford pinto', 'plymouth satellite custom', 'ford torino 500',\n",
       "       'amc matador', 'pontiac catalina brougham', 'dodge monaco (sw)',\n",
       "       'ford country squire (sw)', 'pontiac safari (sw)',\n",
       "       'amc hornet sportabout (sw)', 'chevrolet vega (sw)',\n",
       "       'pontiac firebird', 'ford mustang', 'mercury capri 2000',\n",
       "       'opel 1900', 'peugeot 304', 'fiat 124b', 'toyota corolla 1200',\n",
       "       'datsun 1200', 'volkswagen model 111', 'plymouth cricket',\n",
       "       'toyota corona hardtop', 'dodge colt hardtop', 'volkswagen type 3',\n",
       "       'chevrolet vega', 'ford pinto runabout', 'amc ambassador sst',\n",
       "       'mercury marquis', 'buick lesabre custom',\n",
       "       'oldsmobile delta 88 royale', 'chrysler newport royal',\n",
       "       'mazda rx2 coupe', 'amc matador (sw)',\n",
       "       'chevrolet chevelle concours (sw)', 'ford gran torino (sw)',\n",
       "       'plymouth satellite custom (sw)', 'volvo 145e (sw)',\n",
       "       'volkswagen 411 (sw)', 'peugeot 504 (sw)', 'renault 12 (sw)',\n",
       "       'ford pinto (sw)', 'datsun 510 (sw)',\n",
       "       'toyouta corona mark ii (sw)', 'dodge colt (sw)',\n",
       "       'toyota corolla 1600 (sw)', 'buick century 350',\n",
       "       'chevrolet malibu', 'ford gran torino', 'dodge coronet custom',\n",
       "       'mercury marquis brougham', 'chevrolet caprice classic',\n",
       "       'ford ltd', 'plymouth fury gran sedan',\n",
       "       'chrysler new yorker brougham', 'buick electra 225 custom',\n",
       "       'amc ambassador brougham', 'plymouth valiant',\n",
       "       'chevrolet nova custom', 'volkswagen super beetle', 'ford country',\n",
       "       'plymouth custom suburb', 'oldsmobile vista cruiser',\n",
       "       'toyota carina', 'datsun 610', 'maxda rx3', 'mercury capri v6',\n",
       "       'fiat 124 sport coupe', 'chevrolet monte carlo s',\n",
       "       'pontiac grand prix', 'fiat 128', 'opel manta', 'audi 100ls',\n",
       "       'volvo 144ea', 'dodge dart custom', 'saab 99le', 'toyota mark ii',\n",
       "       'oldsmobile omega', 'chevrolet nova', 'datsun b210',\n",
       "       'chevrolet chevelle malibu classic', 'plymouth satellite sebring',\n",
       "       'buick century luxus (sw)', 'dodge coronet custom (sw)',\n",
       "       'audi fox', 'volkswagen dasher', 'datsun 710', 'dodge colt',\n",
       "       'fiat 124 tc', 'honda civic', 'subaru', 'fiat x1.9',\n",
       "       'plymouth valiant custom', 'mercury monarch', 'chevrolet bel air',\n",
       "       'plymouth grand fury', 'buick century',\n",
       "       'chevroelt chevelle malibu', 'plymouth fury', 'buick skyhawk',\n",
       "       'chevrolet monza 2+2', 'ford mustang ii', 'toyota corolla',\n",
       "       'pontiac astro', 'volkswagen rabbit', 'amc pacer', 'volvo 244dl',\n",
       "       'honda civic cvcc', 'fiat 131', 'capri ii', 'renault 12tl',\n",
       "       'dodge coronet brougham', 'chevrolet chevette', 'chevrolet woody',\n",
       "       'vw rabbit', 'dodge aspen se', 'ford granada ghia',\n",
       "       'pontiac ventura sj', 'amc pacer d/l', 'datsun b-210', 'volvo 245',\n",
       "       'plymouth volare premier v8', 'mercedes-benz 280s',\n",
       "       'cadillac seville', 'chevy c10', 'ford f108', 'dodge d100',\n",
       "       'honda accord cvcc', 'buick opel isuzu deluxe', 'renault 5 gtl',\n",
       "       'plymouth arrow gs', 'datsun f-10 hatchback',\n",
       "       'oldsmobile cutlass supreme', 'dodge monaco brougham',\n",
       "       'mercury cougar brougham', 'chevrolet concours', 'buick skylark',\n",
       "       'plymouth volare custom', 'ford granada', 'pontiac grand prix lj',\n",
       "       'chevrolet monte carlo landau', 'chrysler cordoba',\n",
       "       'ford thunderbird', 'volkswagen rabbit custom',\n",
       "       'pontiac sunbird coupe', 'toyota corolla liftback',\n",
       "       'ford mustang ii 2+2', 'dodge colt m/m', 'subaru dl', 'datsun 810',\n",
       "       'bmw 320i', 'mazda rx-4', 'volkswagen rabbit custom diesel',\n",
       "       'ford fiesta', 'mazda glc deluxe', 'datsun b210 gx',\n",
       "       'oldsmobile cutlass salon brougham', 'dodge diplomat',\n",
       "       'mercury monarch ghia', 'pontiac phoenix lj',\n",
       "       'ford fairmont (auto)', 'ford fairmont (man)', 'plymouth volare',\n",
       "       'amc concord', 'buick century special', 'mercury zephyr',\n",
       "       'dodge aspen', 'amc concord d/l',\n",
       "       'buick regal sport coupe (turbo)', 'ford futura',\n",
       "       'dodge magnum xe', 'datsun 510', 'dodge omni',\n",
       "       'toyota celica gt liftback', 'plymouth sapporo',\n",
       "       'oldsmobile starfire sx', 'datsun 200-sx', 'audi 5000',\n",
       "       'volvo 264gl', 'saab 99gle', 'peugeot 604sl',\n",
       "       'volkswagen scirocco', 'honda accord lx', 'pontiac lemans v6',\n",
       "       'mercury zephyr 6', 'ford fairmont 4', 'amc concord dl 6',\n",
       "       'dodge aspen 6', 'ford ltd landau', 'mercury grand marquis',\n",
       "       'dodge st. regis', 'chevrolet malibu classic (sw)',\n",
       "       'chrysler lebaron town @ country (sw)', 'vw rabbit custom',\n",
       "       'maxda glc deluxe', 'dodge colt hatchback custom', 'amc spirit dl',\n",
       "       'mercedes benz 300d', 'cadillac eldorado', 'plymouth horizon',\n",
       "       'plymouth horizon tc3', 'datsun 210', 'fiat strada custom',\n",
       "       'buick skylark limited', 'chevrolet citation',\n",
       "       'oldsmobile omega brougham', 'pontiac phoenix',\n",
       "       'toyota corolla tercel', 'datsun 310', 'ford fairmont',\n",
       "       'audi 4000', 'toyota corona liftback', 'mazda 626',\n",
       "       'datsun 510 hatchback', 'mazda glc', 'vw rabbit c (diesel)',\n",
       "       'vw dasher (diesel)', 'audi 5000s (diesel)', 'mercedes-benz 240d',\n",
       "       'honda civic 1500 gl', 'renault lecar deluxe', 'vokswagen rabbit',\n",
       "       'datsun 280-zx', 'mazda rx-7 gs', 'triumph tr7 coupe',\n",
       "       'ford mustang cobra', 'honda accord', 'plymouth reliant',\n",
       "       'dodge aries wagon (sw)', 'toyota starlet', 'plymouth champ',\n",
       "       'honda civic 1300', 'datsun 210 mpg', 'toyota tercel',\n",
       "       'mazda glc 4', 'plymouth horizon 4', 'ford escort 4w',\n",
       "       'ford escort 2h', 'volkswagen jetta', 'renault 18i',\n",
       "       'honda prelude', 'datsun 200sx', 'peugeot 505s turbo diesel',\n",
       "       'volvo diesel', 'toyota cressida', 'datsun 810 maxima',\n",
       "       'oldsmobile cutlass ls', 'ford granada gl',\n",
       "       'chrysler lebaron salon', 'chevrolet cavalier',\n",
       "       'chevrolet cavalier wagon', 'chevrolet cavalier 2-door',\n",
       "       'pontiac j2000 se hatchback', 'dodge aries se',\n",
       "       'ford fairmont futura', 'amc concord dl', 'volkswagen rabbit l',\n",
       "       'mazda glc custom l', 'mazda glc custom', 'plymouth horizon miser',\n",
       "       'mercury lynx l', 'nissan stanza xe', 'honda civic (auto)',\n",
       "       'datsun 310 gx', 'buick century limited',\n",
       "       'oldsmobile cutlass ciera (diesel)', 'chrysler lebaron medallion',\n",
       "       'ford granada l', 'toyota celica gt', 'dodge charger 2.2',\n",
       "       'chevrolet camaro', 'ford mustang gl', 'vw pickup',\n",
       "       'dodge rampage', 'ford ranger', 'chevy s-10'], dtype=object)"
      ]
     },
     "execution_count": 22,
     "metadata": {},
     "output_type": "execute_result"
    }
   ],
   "source": [
    "df[\"car_name\"].unique()"
   ]
  },
  {
   "cell_type": "code",
   "execution_count": 23,
   "id": "327c0ade",
   "metadata": {},
   "outputs": [
    {
     "data": {
      "text/plain": [
       "array(['chevrolet', 'buick', 'plymouth', 'amc', 'ford', 'pontiac',\n",
       "       'dodge', 'toyota', 'datsun', 'volkswagen', 'peugeot', 'audi',\n",
       "       'saab', 'bmw', 'chevy', 'hi', 'mercury', 'opel', 'fiat',\n",
       "       'oldsmobile', 'chrysler', 'mazda', 'volvo', 'renault', 'toyouta',\n",
       "       'maxda', 'honda', 'subaru', 'chevroelt', 'capri', 'vw',\n",
       "       'mercedes-benz', 'cadillac', 'mercedes', 'vokswagen', 'triumph',\n",
       "       'nissan'], dtype=object)"
      ]
     },
     "execution_count": 23,
     "metadata": {},
     "output_type": "execute_result"
    }
   ],
   "source": [
    "df[\"car_name\"]= df[\"car_name\"].str.split().str.get(0)\n",
    "df[\"car_name\"].unique()"
   ]
  },
  {
   "cell_type": "code",
   "execution_count": 24,
   "id": "5254b0bf",
   "metadata": {
    "scrolled": false
   },
   "outputs": [
    {
     "data": {
      "text/html": [
       "<div>\n",
       "<style scoped>\n",
       "    .dataframe tbody tr th:only-of-type {\n",
       "        vertical-align: middle;\n",
       "    }\n",
       "\n",
       "    .dataframe tbody tr th {\n",
       "        vertical-align: top;\n",
       "    }\n",
       "\n",
       "    .dataframe thead th {\n",
       "        text-align: right;\n",
       "    }\n",
       "</style>\n",
       "<table border=\"1\" class=\"dataframe\">\n",
       "  <thead>\n",
       "    <tr style=\"text-align: right;\">\n",
       "      <th></th>\n",
       "      <th>mpg</th>\n",
       "      <th>cylinders</th>\n",
       "      <th>displacement</th>\n",
       "      <th>horsepower</th>\n",
       "      <th>weight</th>\n",
       "      <th>acceleration</th>\n",
       "      <th>model_year</th>\n",
       "    </tr>\n",
       "    <tr>\n",
       "      <th>car_name</th>\n",
       "      <th></th>\n",
       "      <th></th>\n",
       "      <th></th>\n",
       "      <th></th>\n",
       "      <th></th>\n",
       "      <th></th>\n",
       "      <th></th>\n",
       "    </tr>\n",
       "  </thead>\n",
       "  <tbody>\n",
       "    <tr>\n",
       "      <th>amc</th>\n",
       "      <td>510.9</td>\n",
       "      <td>178</td>\n",
       "      <td>7005.0</td>\n",
       "      <td>3190</td>\n",
       "      <td>91858</td>\n",
       "      <td>427.4</td>\n",
       "      <td>2080</td>\n",
       "    </tr>\n",
       "    <tr>\n",
       "      <th>audi</th>\n",
       "      <td>187.0</td>\n",
       "      <td>30</td>\n",
       "      <td>783.0</td>\n",
       "      <td>607</td>\n",
       "      <td>17893</td>\n",
       "      <td>111.6</td>\n",
       "      <td>530</td>\n",
       "    </tr>\n",
       "    <tr>\n",
       "      <th>bmw</th>\n",
       "      <td>47.5</td>\n",
       "      <td>8</td>\n",
       "      <td>242.0</td>\n",
       "      <td>223</td>\n",
       "      <td>4834</td>\n",
       "      <td>25.3</td>\n",
       "      <td>147</td>\n",
       "    </tr>\n",
       "    <tr>\n",
       "      <th>buick</th>\n",
       "      <td>326.1</td>\n",
       "      <td>110</td>\n",
       "      <td>4640.0</td>\n",
       "      <td>2319</td>\n",
       "      <td>60407</td>\n",
       "      <td>249.9</td>\n",
       "      <td>1294</td>\n",
       "    </tr>\n",
       "    <tr>\n",
       "      <th>cadillac</th>\n",
       "      <td>39.5</td>\n",
       "      <td>16</td>\n",
       "      <td>700.0</td>\n",
       "      <td>305</td>\n",
       "      <td>8280</td>\n",
       "      <td>29.5</td>\n",
       "      <td>155</td>\n",
       "    </tr>\n",
       "    <tr>\n",
       "      <th>capri</th>\n",
       "      <td>25.0</td>\n",
       "      <td>4</td>\n",
       "      <td>140.0</td>\n",
       "      <td>92</td>\n",
       "      <td>2572</td>\n",
       "      <td>14.9</td>\n",
       "      <td>76</td>\n",
       "    </tr>\n",
       "    <tr>\n",
       "      <th>chevrolet</th>\n",
       "      <td>950.3</td>\n",
       "      <td>290</td>\n",
       "      <td>11254.0</td>\n",
       "      <td>5388</td>\n",
       "      <td>155917</td>\n",
       "      <td>723.7</td>\n",
       "      <td>3550</td>\n",
       "    </tr>\n",
       "    <tr>\n",
       "      <th>chrysler</th>\n",
       "      <td>103.6</td>\n",
       "      <td>42</td>\n",
       "      <td>1981.0</td>\n",
       "      <td>922</td>\n",
       "      <td>23472</td>\n",
       "      <td>79.8</td>\n",
       "      <td>464</td>\n",
       "    </tr>\n",
       "    <tr>\n",
       "      <th>datsun</th>\n",
       "      <td>715.6</td>\n",
       "      <td>98</td>\n",
       "      <td>2375.0</td>\n",
       "      <td>1928</td>\n",
       "      <td>51571</td>\n",
       "      <td>377.4</td>\n",
       "      <td>1768</td>\n",
       "    </tr>\n",
       "    <tr>\n",
       "      <th>dodge</th>\n",
       "      <td>617.7</td>\n",
       "      <td>168</td>\n",
       "      <td>6247.5</td>\n",
       "      <td>3281</td>\n",
       "      <td>89775</td>\n",
       "      <td>404.9</td>\n",
       "      <td>2143</td>\n",
       "    </tr>\n",
       "    <tr>\n",
       "      <th>fiat</th>\n",
       "      <td>231.3</td>\n",
       "      <td>32</td>\n",
       "      <td>737.0</td>\n",
       "      <td>587</td>\n",
       "      <td>17145</td>\n",
       "      <td>125.2</td>\n",
       "      <td>594</td>\n",
       "    </tr>\n",
       "    <tr>\n",
       "      <th>ford</th>\n",
       "      <td>1004.4</td>\n",
       "      <td>310</td>\n",
       "      <td>11927.0</td>\n",
       "      <td>5666</td>\n",
       "      <td>168362</td>\n",
       "      <td>784.3</td>\n",
       "      <td>3850</td>\n",
       "    </tr>\n",
       "    <tr>\n",
       "      <th>hi</th>\n",
       "      <td>9.0</td>\n",
       "      <td>8</td>\n",
       "      <td>304.0</td>\n",
       "      <td>193</td>\n",
       "      <td>4732</td>\n",
       "      <td>18.5</td>\n",
       "      <td>70</td>\n",
       "    </tr>\n",
       "    <tr>\n",
       "      <th>honda</th>\n",
       "      <td>438.9</td>\n",
       "      <td>52</td>\n",
       "      <td>1264.0</td>\n",
       "      <td>882</td>\n",
       "      <td>26304</td>\n",
       "      <td>207.9</td>\n",
       "      <td>1026</td>\n",
       "    </tr>\n",
       "    <tr>\n",
       "      <th>mazda</th>\n",
       "      <td>360.7</td>\n",
       "      <td>44</td>\n",
       "      <td>1053.0</td>\n",
       "      <td>932</td>\n",
       "      <td>26821</td>\n",
       "      <td>193.1</td>\n",
       "      <td>945</td>\n",
       "    </tr>\n",
       "    <tr>\n",
       "      <th>mercedes</th>\n",
       "      <td>25.4</td>\n",
       "      <td>5</td>\n",
       "      <td>183.0</td>\n",
       "      <td>77</td>\n",
       "      <td>3530</td>\n",
       "      <td>20.1</td>\n",
       "      <td>79</td>\n",
       "    </tr>\n",
       "    <tr>\n",
       "      <th>mercedes-benz</th>\n",
       "      <td>46.5</td>\n",
       "      <td>10</td>\n",
       "      <td>314.0</td>\n",
       "      <td>187</td>\n",
       "      <td>7070</td>\n",
       "      <td>38.5</td>\n",
       "      <td>156</td>\n",
       "    </tr>\n",
       "    <tr>\n",
       "      <th>mercury</th>\n",
       "      <td>210.3</td>\n",
       "      <td>72</td>\n",
       "      <td>2838.0</td>\n",
       "      <td>1318</td>\n",
       "      <td>37714</td>\n",
       "      <td>164.6</td>\n",
       "      <td>837</td>\n",
       "    </tr>\n",
       "    <tr>\n",
       "      <th>nissan</th>\n",
       "      <td>36.0</td>\n",
       "      <td>4</td>\n",
       "      <td>120.0</td>\n",
       "      <td>88</td>\n",
       "      <td>2160</td>\n",
       "      <td>14.5</td>\n",
       "      <td>82</td>\n",
       "    </tr>\n",
       "    <tr>\n",
       "      <th>oldsmobile</th>\n",
       "      <td>211.0</td>\n",
       "      <td>72</td>\n",
       "      <td>2766.0</td>\n",
       "      <td>1220</td>\n",
       "      <td>35759</td>\n",
       "      <td>160.2</td>\n",
       "      <td>772</td>\n",
       "    </tr>\n",
       "    <tr>\n",
       "      <th>opel</th>\n",
       "      <td>103.0</td>\n",
       "      <td>16</td>\n",
       "      <td>445.0</td>\n",
       "      <td>324</td>\n",
       "      <td>8801</td>\n",
       "      <td>60.9</td>\n",
       "      <td>294</td>\n",
       "    </tr>\n",
       "    <tr>\n",
       "      <th>peugeot</th>\n",
       "      <td>189.5</td>\n",
       "      <td>34</td>\n",
       "      <td>994.0</td>\n",
       "      <td>704</td>\n",
       "      <td>23782</td>\n",
       "      <td>156.4</td>\n",
       "      <td>602</td>\n",
       "    </tr>\n",
       "    <tr>\n",
       "      <th>plymouth</th>\n",
       "      <td>672.8</td>\n",
       "      <td>186</td>\n",
       "      <td>6905.0</td>\n",
       "      <td>3454</td>\n",
       "      <td>99788</td>\n",
       "      <td>460.4</td>\n",
       "      <td>2328</td>\n",
       "    </tr>\n",
       "    <tr>\n",
       "      <th>pontiac</th>\n",
       "      <td>320.2</td>\n",
       "      <td>100</td>\n",
       "      <td>4522.0</td>\n",
       "      <td>2191</td>\n",
       "      <td>58485</td>\n",
       "      <td>225.3</td>\n",
       "      <td>1208</td>\n",
       "    </tr>\n",
       "    <tr>\n",
       "      <th>renault</th>\n",
       "      <td>164.4</td>\n",
       "      <td>20</td>\n",
       "      <td>461.0</td>\n",
       "      <td>396</td>\n",
       "      <td>10371</td>\n",
       "      <td>85.0</td>\n",
       "      <td>386</td>\n",
       "    </tr>\n",
       "    <tr>\n",
       "      <th>saab</th>\n",
       "      <td>95.6</td>\n",
       "      <td>16</td>\n",
       "      <td>467.0</td>\n",
       "      <td>435</td>\n",
       "      <td>10501</td>\n",
       "      <td>60.7</td>\n",
       "      <td>296</td>\n",
       "    </tr>\n",
       "    <tr>\n",
       "      <th>subaru</th>\n",
       "      <td>122.1</td>\n",
       "      <td>16</td>\n",
       "      <td>399.0</td>\n",
       "      <td>294</td>\n",
       "      <td>8586</td>\n",
       "      <td>67.7</td>\n",
       "      <td>312</td>\n",
       "    </tr>\n",
       "    <tr>\n",
       "      <th>toyota</th>\n",
       "      <td>732.3</td>\n",
       "      <td>110</td>\n",
       "      <td>2903.0</td>\n",
       "      <td>2183</td>\n",
       "      <td>60035</td>\n",
       "      <td>417.0</td>\n",
       "      <td>1985</td>\n",
       "    </tr>\n",
       "    <tr>\n",
       "      <th>triumph</th>\n",
       "      <td>35.0</td>\n",
       "      <td>4</td>\n",
       "      <td>122.0</td>\n",
       "      <td>88</td>\n",
       "      <td>2500</td>\n",
       "      <td>15.1</td>\n",
       "      <td>80</td>\n",
       "    </tr>\n",
       "    <tr>\n",
       "      <th>volkswagen</th>\n",
       "      <td>700.5</td>\n",
       "      <td>88</td>\n",
       "      <td>2091.0</td>\n",
       "      <td>1411</td>\n",
       "      <td>45008</td>\n",
       "      <td>382.9</td>\n",
       "      <td>1688</td>\n",
       "    </tr>\n",
       "    <tr>\n",
       "      <th>volvo</th>\n",
       "      <td>126.7</td>\n",
       "      <td>28</td>\n",
       "      <td>801.0</td>\n",
       "      <td>625</td>\n",
       "      <td>18196</td>\n",
       "      <td>93.4</td>\n",
       "      <td>455</td>\n",
       "    </tr>\n",
       "  </tbody>\n",
       "</table>\n",
       "</div>"
      ],
      "text/plain": [
       "                  mpg  cylinders  displacement  horsepower  weight  \\\n",
       "car_name                                                             \n",
       "amc             510.9        178        7005.0        3190   91858   \n",
       "audi            187.0         30         783.0         607   17893   \n",
       "bmw              47.5          8         242.0         223    4834   \n",
       "buick           326.1        110        4640.0        2319   60407   \n",
       "cadillac         39.5         16         700.0         305    8280   \n",
       "capri            25.0          4         140.0          92    2572   \n",
       "chevrolet       950.3        290       11254.0        5388  155917   \n",
       "chrysler        103.6         42        1981.0         922   23472   \n",
       "datsun          715.6         98        2375.0        1928   51571   \n",
       "dodge           617.7        168        6247.5        3281   89775   \n",
       "fiat            231.3         32         737.0         587   17145   \n",
       "ford           1004.4        310       11927.0        5666  168362   \n",
       "hi                9.0          8         304.0         193    4732   \n",
       "honda           438.9         52        1264.0         882   26304   \n",
       "mazda           360.7         44        1053.0         932   26821   \n",
       "mercedes         25.4          5         183.0          77    3530   \n",
       "mercedes-benz    46.5         10         314.0         187    7070   \n",
       "mercury         210.3         72        2838.0        1318   37714   \n",
       "nissan           36.0          4         120.0          88    2160   \n",
       "oldsmobile      211.0         72        2766.0        1220   35759   \n",
       "opel            103.0         16         445.0         324    8801   \n",
       "peugeot         189.5         34         994.0         704   23782   \n",
       "plymouth        672.8        186        6905.0        3454   99788   \n",
       "pontiac         320.2        100        4522.0        2191   58485   \n",
       "renault         164.4         20         461.0         396   10371   \n",
       "saab             95.6         16         467.0         435   10501   \n",
       "subaru          122.1         16         399.0         294    8586   \n",
       "toyota          732.3        110        2903.0        2183   60035   \n",
       "triumph          35.0          4         122.0          88    2500   \n",
       "volkswagen      700.5         88        2091.0        1411   45008   \n",
       "volvo           126.7         28         801.0         625   18196   \n",
       "\n",
       "               acceleration  model_year  \n",
       "car_name                                 \n",
       "amc                   427.4        2080  \n",
       "audi                  111.6         530  \n",
       "bmw                    25.3         147  \n",
       "buick                 249.9        1294  \n",
       "cadillac               29.5         155  \n",
       "capri                  14.9          76  \n",
       "chevrolet             723.7        3550  \n",
       "chrysler               79.8         464  \n",
       "datsun                377.4        1768  \n",
       "dodge                 404.9        2143  \n",
       "fiat                  125.2         594  \n",
       "ford                  784.3        3850  \n",
       "hi                     18.5          70  \n",
       "honda                 207.9        1026  \n",
       "mazda                 193.1         945  \n",
       "mercedes               20.1          79  \n",
       "mercedes-benz          38.5         156  \n",
       "mercury               164.6         837  \n",
       "nissan                 14.5          82  \n",
       "oldsmobile            160.2         772  \n",
       "opel                   60.9         294  \n",
       "peugeot               156.4         602  \n",
       "plymouth              460.4        2328  \n",
       "pontiac               225.3        1208  \n",
       "renault                85.0         386  \n",
       "saab                   60.7         296  \n",
       "subaru                 67.7         312  \n",
       "toyota                417.0        1985  \n",
       "triumph                15.1          80  \n",
       "volkswagen            382.9        1688  \n",
       "volvo                  93.4         455  "
      ]
     },
     "execution_count": 24,
     "metadata": {},
     "output_type": "execute_result"
    }
   ],
   "source": [
    "# Correct brand name \n",
    "df['car_name'] = df['car_name'].str.replace('chevroelt|chevrolet|chevy','chevrolet')\n",
    "df['car_name'] = df['car_name'].str.replace('maxda|mazda','mazda')\n",
    "df['car_name'] = df['car_name'].str.replace('mercedes|mercedes-benz|mercedes benz','mercedes')\n",
    "df['car_name'] = df['car_name'].str.replace('toyota|toyouta','toyota')\n",
    "df['car_name'] = df['car_name'].str.replace('vokswagen|volkswagen|vw','volkswagen')\n",
    "\n",
    "df.groupby(['car_name']).sum()#.head()"
   ]
  },
  {
   "cell_type": "code",
   "execution_count": 25,
   "id": "e6e5a29d",
   "metadata": {
    "scrolled": false
   },
   "outputs": [
    {
     "data": {
      "image/png": "[encoded data removed]",
      "text/plain": [
       "<Figure size 864x504 with 1 Axes>"
      ]
     },
     "metadata": {},
     "output_type": "display_data"
    }
   ],
   "source": [
    "# Counts of each brands\n",
    "df[\"car_name\"].value_counts().plot(kind=\"bar\", figsize=(12,7))\n",
    "plt.title(' \" Car Brands\" ', fontsize = 25, color=\"#36345C\");"
   ]
  },
  {
   "cell_type": "markdown",
   "id": "05ef2117",
   "metadata": {},
   "source": [
    "Get the relation between origin country and model of cars"
   ]
  },
  {
   "cell_type": "code",
   "execution_count": 26,
   "id": "a29faf21",
   "metadata": {
    "scrolled": true
   },
   "outputs": [
    {
     "data": {
      "text/html": [
       "<div>\n",
       "<style scoped>\n",
       "    .dataframe tbody tr th:only-of-type {\n",
       "        vertical-align: middle;\n",
       "    }\n",
       "\n",
       "    .dataframe tbody tr th {\n",
       "        vertical-align: top;\n",
       "    }\n",
       "\n",
       "    .dataframe thead th {\n",
       "        text-align: right;\n",
       "    }\n",
       "</style>\n",
       "<table border=\"1\" class=\"dataframe\">\n",
       "  <thead>\n",
       "    <tr style=\"text-align: right;\">\n",
       "      <th></th>\n",
       "      <th></th>\n",
       "      <th>car_name</th>\n",
       "    </tr>\n",
       "    <tr>\n",
       "      <th>origin</th>\n",
       "      <th>car_name</th>\n",
       "      <th></th>\n",
       "    </tr>\n",
       "  </thead>\n",
       "  <tbody>\n",
       "    <tr>\n",
       "      <th rowspan=\"6\" valign=\"top\">Asia</th>\n",
       "      <th>toyota</th>\n",
       "      <td>26</td>\n",
       "    </tr>\n",
       "    <tr>\n",
       "      <th>datsun</th>\n",
       "      <td>23</td>\n",
       "    </tr>\n",
       "    <tr>\n",
       "      <th>honda</th>\n",
       "      <td>13</td>\n",
       "    </tr>\n",
       "    <tr>\n",
       "      <th>mazda</th>\n",
       "      <td>12</td>\n",
       "    </tr>\n",
       "    <tr>\n",
       "      <th>subaru</th>\n",
       "      <td>4</td>\n",
       "    </tr>\n",
       "    <tr>\n",
       "      <th>nissan</th>\n",
       "      <td>1</td>\n",
       "    </tr>\n",
       "    <tr>\n",
       "      <th rowspan=\"12\" valign=\"top\">Europe</th>\n",
       "      <th>volkswagen</th>\n",
       "      <td>22</td>\n",
       "    </tr>\n",
       "    <tr>\n",
       "      <th>fiat</th>\n",
       "      <td>8</td>\n",
       "    </tr>\n",
       "    <tr>\n",
       "      <th>peugeot</th>\n",
       "      <td>8</td>\n",
       "    </tr>\n",
       "    <tr>\n",
       "      <th>audi</th>\n",
       "      <td>7</td>\n",
       "    </tr>\n",
       "    <tr>\n",
       "      <th>volvo</th>\n",
       "      <td>6</td>\n",
       "    </tr>\n",
       "    <tr>\n",
       "      <th>renault</th>\n",
       "      <td>5</td>\n",
       "    </tr>\n",
       "    <tr>\n",
       "      <th>opel</th>\n",
       "      <td>4</td>\n",
       "    </tr>\n",
       "    <tr>\n",
       "      <th>saab</th>\n",
       "      <td>4</td>\n",
       "    </tr>\n",
       "    <tr>\n",
       "      <th>bmw</th>\n",
       "      <td>2</td>\n",
       "    </tr>\n",
       "    <tr>\n",
       "      <th>mercedes-benz</th>\n",
       "      <td>2</td>\n",
       "    </tr>\n",
       "    <tr>\n",
       "      <th>mercedes</th>\n",
       "      <td>1</td>\n",
       "    </tr>\n",
       "    <tr>\n",
       "      <th>triumph</th>\n",
       "      <td>1</td>\n",
       "    </tr>\n",
       "    <tr>\n",
       "      <th rowspan=\"13\" valign=\"top\">USA</th>\n",
       "      <th>ford</th>\n",
       "      <td>51</td>\n",
       "    </tr>\n",
       "    <tr>\n",
       "      <th>chevrolet</th>\n",
       "      <td>47</td>\n",
       "    </tr>\n",
       "    <tr>\n",
       "      <th>plymouth</th>\n",
       "      <td>31</td>\n",
       "    </tr>\n",
       "    <tr>\n",
       "      <th>amc</th>\n",
       "      <td>28</td>\n",
       "    </tr>\n",
       "    <tr>\n",
       "      <th>dodge</th>\n",
       "      <td>28</td>\n",
       "    </tr>\n",
       "    <tr>\n",
       "      <th>buick</th>\n",
       "      <td>17</td>\n",
       "    </tr>\n",
       "    <tr>\n",
       "      <th>pontiac</th>\n",
       "      <td>16</td>\n",
       "    </tr>\n",
       "    <tr>\n",
       "      <th>mercury</th>\n",
       "      <td>11</td>\n",
       "    </tr>\n",
       "    <tr>\n",
       "      <th>oldsmobile</th>\n",
       "      <td>10</td>\n",
       "    </tr>\n",
       "    <tr>\n",
       "      <th>chrysler</th>\n",
       "      <td>6</td>\n",
       "    </tr>\n",
       "    <tr>\n",
       "      <th>cadillac</th>\n",
       "      <td>2</td>\n",
       "    </tr>\n",
       "    <tr>\n",
       "      <th>capri</th>\n",
       "      <td>1</td>\n",
       "    </tr>\n",
       "    <tr>\n",
       "      <th>hi</th>\n",
       "      <td>1</td>\n",
       "    </tr>\n",
       "  </tbody>\n",
       "</table>\n",
       "</div>"
      ],
      "text/plain": [
       "                      car_name\n",
       "origin car_name               \n",
       "Asia   toyota               26\n",
       "       datsun               23\n",
       "       honda                13\n",
       "       mazda                12\n",
       "       subaru                4\n",
       "       nissan                1\n",
       "Europe volkswagen           22\n",
       "       fiat                  8\n",
       "       peugeot               8\n",
       "       audi                  7\n",
       "       volvo                 6\n",
       "       renault               5\n",
       "       opel                  4\n",
       "       saab                  4\n",
       "       bmw                   2\n",
       "       mercedes-benz         2\n",
       "       mercedes              1\n",
       "       triumph               1\n",
       "USA    ford                 51\n",
       "       chevrolet            47\n",
       "       plymouth             31\n",
       "       amc                  28\n",
       "       dodge                28\n",
       "       buick                17\n",
       "       pontiac              16\n",
       "       mercury              11\n",
       "       oldsmobile           10\n",
       "       chrysler              6\n",
       "       cadillac              2\n",
       "       capri                 1\n",
       "       hi                    1"
      ]
     },
     "execution_count": 26,
     "metadata": {},
     "output_type": "execute_result"
    }
   ],
   "source": [
    "pd.DataFrame(df.groupby(by=\"origin\").car_name.value_counts())"
   ]
  },
  {
   "cell_type": "markdown",
   "id": "4b4089da",
   "metadata": {},
   "source": [
    "For better eye view, let's visualize it using sunbrust from plotly."
   ]
  },
  {
   "cell_type": "code",
   "execution_count": null,
   "id": "b8fb3ca9",
   "metadata": {},
   "outputs": [],
   "source": [
    "fig= px.sunburst(df, path=['origin', \"car_name\"], title= \"Country and car models\")\n",
    "fig.update_layout(margin=dict(t=0, l=0, r=0, b=0)).update_traces(texttemplate=\"%{label}<br>%{percentEntry:.2%}\")"
   ]
  },
  {
   "cell_type": "markdown",
   "id": "4cfbab0a",
   "metadata": {},
   "source": [
    ">As expected, the brand of each car differs according to the country in which it was manufactured.\n",
    "\n",
    ">`Car_names` helped  alot to get a better intution in analysis. And here ends the role of it. So, I'm going to drop it\n",
    "and I will depend my analysis on the physical characteristics of the cars rather than the model_names or manufacturers ."
   ]
  },
  {
   "cell_type": "code",
   "execution_count": null,
   "id": "13dee980",
   "metadata": {},
   "outputs": [],
   "source": [
    "df.drop(\"car_name\", axis=1, inplace=True)"
   ]
  },
  {
   "cell_type": "code",
   "execution_count": null,
   "id": "5134ad05",
   "metadata": {},
   "outputs": [],
   "source": [
    "# displaying histgram of mpg column\n",
    "sns.set_palette(\"GnBu_r\")\n",
    "plt.figure(figsize=(15,5))\n",
    "df['mpg'].hist()\n",
    "plt.title(\"Miles per galon Distribution\", fontsize = 30)\n",
    "plt.xlabel(\"Miles per galon of fuel\", fontsize = 25)\n",
    "plt.ylabel(\"Frequency\", fontsize = 25);"
   ]
  },
  {
   "cell_type": "markdown",
   "id": "74669c0d",
   "metadata": {},
   "source": [
    "> ##### Most cars have mpg between 15 to 20 and there are a few cars that drive many miles per gallon , Which means that few cars are more efficient."
   ]
  },
  {
   "cell_type": "code",
   "execution_count": null,
   "id": "a5e1f029",
   "metadata": {},
   "outputs": [],
   "source": [
    "# displaying histgram of cylinder column\n",
    "plt.figure(figsize=(15,5))\n",
    "df['cylinders'].hist()\n",
    "plt.title(\"Cylinder Distribution\", fontsize = 30)\n",
    "plt.xlabel(\"Cylinder\", fontsize = 25)\n",
    "plt.ylabel(\"Cars count\", fontsize = 25);"
   ]
  },
  {
   "cell_type": "markdown",
   "id": "a74a9ffd",
   "metadata": {},
   "source": [
    "> ##### Most cars have `4` cylinder engine."
   ]
  },
  {
   "cell_type": "markdown",
   "id": "d24e9183",
   "metadata": {},
   "source": [
    "#### Now, I will compare these findings together."
   ]
  },
  {
   "cell_type": "code",
   "execution_count": null,
   "id": "332688ca",
   "metadata": {},
   "outputs": [],
   "source": [
    "# ploting clynders VS mpg\n",
    "sns.set_palette(\"RdBu_r\")\n",
    "plt.figure(figsize=(15,5))\n",
    "sns.boxplot(x = 'cylinders', y = 'mpg', data = df, linewidth=5)\n",
    "plt.title(\"Clynders VS Mpg\", fontsize = 30)\n",
    "plt.xlabel(\"Clynders\", fontsize = 25)\n",
    "plt.ylabel(\"Mpg\", fontsize = 25);"
   ]
  },
  {
   "cell_type": "markdown",
   "id": "affe991f",
   "metadata": {},
   "source": [
    "> ##### As `cylinders` in the engine increases above `4` ,`MPG` decreases"
   ]
  },
  {
   "cell_type": "markdown",
   "id": "7d1953cb",
   "metadata": {},
   "source": [
    "#### Now, let's take a closer look at `Model_year` coulmn ."
   ]
  },
  {
   "cell_type": "code",
   "execution_count": null,
   "id": "495ad9a8",
   "metadata": {},
   "outputs": [],
   "source": [
    "# displaying histgram of model_year column\n",
    "sns.set_palette(\"RdBu_r\")\n",
    "plt.figure(figsize=(15,5))\n",
    "plt.title(\"Model year distribution\", fontsize = 30)\n",
    "plt.xlabel(\"Model_year\", fontsize = 25)\n",
    "plt.ylabel(\"Cars_count\", fontsize = 25)\n",
    "df['model_year'].hist();"
   ]
  },
  {
   "cell_type": "markdown",
   "id": "f7e96c51",
   "metadata": {},
   "source": [
    "> ##### The `Model_year` column contains info about cars from 1970 to 1982 and  most of  cars are produced in 1976."
   ]
  },
  {
   "cell_type": "markdown",
   "id": "f84d2f40",
   "metadata": {},
   "source": [
    "#### Now, let's take a closer look at `Horsepower` column and compare it with `Cylinders` column ,then comparing them with `Mpg` column."
   ]
  },
  {
   "cell_type": "code",
   "execution_count": null,
   "id": "12b20c60",
   "metadata": {},
   "outputs": [],
   "source": [
    "# displaying histgram of Horsepower column\n",
    "#sns.set_palette(\"PRGn\")\n",
    "sns.set_palette(\"GnBu_r\")\n",
    "plt.figure(figsize=(15,5))\n",
    "plt.title(\"Horsepower distribution\", fontsize = 30)\n",
    "plt.xlabel(\"Horsepower\", fontsize = 25)\n",
    "plt.ylabel(\"Cars_count\", fontsize = 25)\n",
    "df['horsepower'].hist();"
   ]
  },
  {
   "cell_type": "code",
   "execution_count": null,
   "id": "0564eae6",
   "metadata": {},
   "outputs": [],
   "source": [
    "# ploting Cylinders VS Horsepower\n",
    "sns.set_palette(\"GnBu_r\")\n",
    "plt.figure(figsize=(15,5))\n",
    "plt.title(\"Clynders VS Horsepower\", fontsize = 30)\n",
    "sns.boxplot(x = 'cylinders', y = 'horsepower', data = df, linewidth=5)\n",
    "plt.xlabel(\"Clynders\", fontsize = 25)\n",
    "plt.ylabel(\"Horsepower\", fontsize = 25);"
   ]
  },
  {
   "cell_type": "markdown",
   "id": "6ba121ba",
   "metadata": {},
   "source": [
    "> ##### As `Cylinders` in the engine increases above 4, `Engine Horsepower` increases."
   ]
  },
  {
   "cell_type": "code",
   "execution_count": null,
   "id": "2d894642",
   "metadata": {},
   "outputs": [],
   "source": [
    "# ploting Horsepower VS Mpg with respect to cylinders\n",
    "ax=sns.relplot(x = 'horsepower', y = 'mpg', hue='cylinders',height=6,aspect=1.30, data = df, kind=\"scatter\", style=\"cylinders\",palette=['#303131','#038CBA','green','#1B3E84','#021538'])\n",
    "ax.fig.suptitle(\"Horsepower VS Mpg with respect to Cylinders\",y=1, fontsize = 20)\n",
    "ax.set(xlabel=\"Horsepower\",ylabel=\"Mpg\");"
   ]
  },
  {
   "cell_type": "markdown",
   "id": "c8415724",
   "metadata": {},
   "source": [
    "> ##### There is Negative correlation between `Mpg` and `Horsepower`.\n",
    "> ##### Higher `Mpg` has Lower `Horsepower`."
   ]
  },
  {
   "cell_type": "markdown",
   "id": "c8a922e3",
   "metadata": {},
   "source": [
    "> ##### Confirming the above, the increase in `Cylinders` and `Horsepower` decreases efficient of the car , as It burns more fuel and decreases `mpg`."
   ]
  },
  {
   "cell_type": "markdown",
   "id": "de7b7183",
   "metadata": {},
   "source": [
    "#### Now, I'll explore `origin` column to find insights about each manufacturing country and then explore its relations between other columns."
   ]
  },
  {
   "cell_type": "code",
   "execution_count": null,
   "id": "fd5003be",
   "metadata": {
    "scrolled": true
   },
   "outputs": [],
   "source": [
    "# ploting cars origin dist.\n",
    "plt.figure(figsize=[14, 6])\n",
    "plt.title(' \"The percentage of cars in  countries of origin\" ', fontsize = 25, y=1.1, color=\"#36345C\")\n",
    "plt.pie(x=df['origin'].value_counts(),\n",
    "        autopct=\"%.2f\",explode=[0.02, 0.02,0.02],\n",
    "        shadow=True,\n",
    "        labels=['USA', 'Europe', 'Japan'],textprops={\"fontsize\":25, \"style\":\"italic\"});"
   ]
  },
  {
   "cell_type": "code",
   "execution_count": null,
   "id": "8454b643",
   "metadata": {},
   "outputs": [],
   "source": [
    "# ploting Origin VS Mpg\n",
    "plt.figure(figsize=(15,5))\n",
    "sns.set_palette(\"GnBu_r\")\n",
    "plt.title(\"Origin VS Mpg\", fontsize = 30)\n",
    "sns.boxplot(x = 'origin', y = 'mpg', data =df, linewidth=5)\n",
    "plt.xlabel(\"Origin\", fontsize = 25)\n",
    "plt.ylabel(\"Mpg\", fontsize = 25);"
   ]
  },
  {
   "cell_type": "markdown",
   "id": "e427ab34",
   "metadata": {},
   "source": [
    "> ##### `Asia` produces cars with the highest `Mpg`, followed by `Europe` and finally the `USA` with the lowest  `Mpg`.\n",
    "> ##### The American made cars are the least efficient in our dataset, as they drive less mileage per gallon, which means burning more fuel.\n",
    "american made cars take values from 9 and up to 39 with little number of outliers.\n",
    "On average japan origin country of cars drive more mileages-per-gallon. And it takes values from 18 up to 46 mileage per gallon."
   ]
  },
  {
   "cell_type": "code",
   "execution_count": null,
   "id": "b8b5216d",
   "metadata": {
    "scrolled": true
   },
   "outputs": [],
   "source": [
    "# ploting Origin VS Horsepower\n",
    "sns.set_palette(\"RdBu_r\")\n",
    "plt.figure(figsize=(15,5))\n",
    "plt.title(\"Origin VS Horsepower\", fontsize = 30)\n",
    "sns.boxplot(x = 'origin', y = 'horsepower', data = df, linewidth=5)\n",
    "plt.xlabel(\"Origin\", fontsize = 25)\n",
    "plt.ylabel(\"Horsepower\", fontsize = 25);"
   ]
  },
  {
   "cell_type": "markdown",
   "id": "3927de24",
   "metadata": {},
   "source": [
    "> ##### As expected, `USA` has the highest engine `Horsepower` followed by `Europe` and finally the `Asia` with the lowest engine `Horsepower`. This implies the previously observed conclusion that `Hoursepower` and `Mpg` has a negative correlation."
   ]
  },
  {
   "cell_type": "code",
   "execution_count": null,
   "id": "001c88b8",
   "metadata": {},
   "outputs": [],
   "source": [
    "# ploting Model_year VS Mpg with respect to origin\n",
    "plt.figure(figsize=(15,7))\n",
    "sns.boxplot(x = 'model_year', y = 'mpg', hue='origin',palette=['#038CBA','#1B3E84','#021538'], data = df)\n",
    "plt.title(\"Model_year VS Mpg with respect origin\", fontsize = 27)\n",
    "plt.xlabel(\"Model_year\", fontsize = 25)\n",
    "plt.ylabel(\"Mpg\", fontsize = 25);"
   ]
  },
  {
   "cell_type": "markdown",
   "id": "9fc47a8d",
   "metadata": {},
   "source": [
    "> ##### This plot confirms the positive correlation between `Model_year` and `Mpg`,where it is from the year 1973, there has been a noticable increase in `Mpg`.\n",
    "\n",
    ">And this plot show also that `MPG` for `American cars` increased in `1971` from `1970`, and decreased from `1971` to `1973`, until it was less than `1970`,Then it increased again from `1973` to `1974`, then relapsed slightly in `1975`, after which it increased almost regularly, but it was always less than `Japane` and the `Europe`.\n",
    "\n",
    ">As for `Japanese and European cars`, the `MPG` was increasing and decreasing randomly."
   ]
  },
  {
   "cell_type": "code",
   "execution_count": null,
   "id": "b9fd1ae7",
   "metadata": {},
   "outputs": [],
   "source": [
    "# ploting Acceleration VS Cylinders\n",
    "sns.set_palette(\"Blues\")\n",
    "plt.figure(figsize=(15,5))\n",
    "plt.title(\"Acceleration VS Cylinders\", fontsize = 30)\n",
    "sns.boxplot(x = 'cylinders', y = 'acceleration', data = df, linewidth=5)\n",
    "plt.xlabel(\"Acceleration\", fontsize = 25)\n",
    "plt.ylabel(\"Cylinders\", fontsize = 25);"
   ]
  },
  {
   "cell_type": "markdown",
   "id": "0435119b",
   "metadata": {},
   "source": [
    "> Cars with `5` Cylinders have highest `acceleration`."
   ]
  },
  {
   "cell_type": "markdown",
   "id": "13a75033",
   "metadata": {},
   "source": [
    "#### Now I will explore how `Weight` has been affecting  `Car Specifications` over the years."
   ]
  },
  {
   "cell_type": "code",
   "execution_count": null,
   "id": "4db739fe",
   "metadata": {},
   "outputs": [],
   "source": [
    "# displaying histgram of weight column\n",
    "sns.set_palette(\"RdBu_r\")\n",
    "plt.figure(figsize=(15,5))\n",
    "plt.title(\"Car Weight Distribution\", fontsize = 30)\n",
    "plt.xlabel(\"Car Weight\", fontsize = 25)\n",
    "plt.ylabel(\"Car count\", fontsize = 25)\n",
    "df['weight'].hist();"
   ]
  },
  {
   "cell_type": "markdown",
   "id": "52b89596",
   "metadata": {},
   "source": [
    "> #####   The majority of cars weight at `2000`."
   ]
  },
  {
   "cell_type": "code",
   "execution_count": null,
   "id": "02538e3b",
   "metadata": {},
   "outputs": [],
   "source": [
    "# plotting Weight VS Model_year\n",
    "plt.figure(figsize=(15,5))\n",
    "plt.title(\"Weight VS Model_year\", fontsize = 30)\n",
    "sns.barplot(x = 'model_year', y = 'weight', data = df,color=\"#00468b\")\n",
    "plt.xlabel(\"Model_year\", fontsize = 25)\n",
    "plt.ylabel(\"Car Weight\", fontsize = 25);"
   ]
  },
  {
   "cell_type": "code",
   "execution_count": null,
   "id": "5b8af48e",
   "metadata": {},
   "outputs": [],
   "source": [
    "# plotting Weight VS Model_year\n",
    "sns.set_palette(\"Set1\")\n",
    "plt.figure(figsize=(15,5))\n",
    "plt.title(\"Weight VS Model_year\", fontsize = 30)\n",
    "sns.lineplot(x = 'model_year', y = 'weight', data = df,hue=\"origin\",ci=None)\n",
    "plt.xlabel(\"Model_year\", fontsize = 25)\n",
    "plt.ylabel(\"Car Weight\", fontsize = 25);"
   ]
  },
  {
   "cell_type": "markdown",
   "id": "7e4c1751",
   "metadata": {},
   "source": [
    "> ##### `Car Weight` has been decreasing over the years."
   ]
  },
  {
   "cell_type": "code",
   "execution_count": null,
   "id": "607422a1",
   "metadata": {},
   "outputs": [],
   "source": [
    "# plotting Weight VS Origin\n",
    "plt.figure(figsize=(15,5))\n",
    "plt.title(\"Weight VS Origin\", fontsize = 30)\n",
    "sns.barplot(x = 'origin', y = 'weight', data =df,color=\"#00468b\")\n",
    "plt.xlabel(\"Origin\", fontsize = 25)\n",
    "plt.ylabel(\"Car weight\", fontsize = 25);"
   ]
  },
  {
   "cell_type": "markdown",
   "id": "927e43ae",
   "metadata": {},
   "source": [
    "> ##### As expected, `USA` gets the highest possible weight values, that explains alot about its low `Mpg` and high `Horsepower` & `cylinders`.\n",
    "`Asia` produces the lightest cars compared to `USA` and `Europe`, this also explains it's high `Mpg` and low `Horsepower`& `cylinders`."
   ]
  },
  {
   "cell_type": "code",
   "execution_count": null,
   "id": "5417ad7a",
   "metadata": {},
   "outputs": [],
   "source": [
    "fig, axes = plt.subplots(figsize=(20, 6), nrows=1, ncols=3, dpi=90)\n",
    "\n",
    "sns.scatterplot(x=\"weight\", y=\"mpg\", data=df, hue=\"cylinders\", ax=axes[0])\n",
    "axes[0].set_title(\"Weight vs Miles per Gallon\")\n",
    "\n",
    "sns.scatterplot(x=\"weight\", y=\"acceleration\", data=df, hue=\"cylinders\", ax=axes[1])\n",
    "axes[1].set_title(\"Weight vs Acceleration\")\n",
    "\n",
    "sns.scatterplot(x=\"weight\", y=\"horsepower\", data=df, hue=\"cylinders\", ax=axes[2])\n",
    "axes[2].set_title(\"Weight vs Horsepower\")\n",
    "\n",
    "plt.show()"
   ]
  },
  {
   "cell_type": "markdown",
   "id": "35e40972",
   "metadata": {},
   "source": [
    ">Higher `Weight` has Lower `Mpg`.\n",
    "\n",
    ">Higher `Weight` has Slower `Acceleration`.\n",
    "\n",
    ">`Heavier Cars have Higher Horsepower`."
   ]
  },
  {
   "cell_type": "markdown",
   "id": "198315ed",
   "metadata": {},
   "source": [
    "<a id='Conclusion'></a>\n",
    "# Conclusion\n",
    "### From the previous visualisations I conclude that:\n",
    "##### As years pass after 1973, there has been a noticable increase in mpg.\n",
    "\n",
    "##### As cylinders in the engine increases above 4, MPG decreases and engine horsepower increases. That indicates negative correlation between mpg and horsepower.\n",
    "\n",
    "##### mpg increases as weight decreses over time, that also indecates a strong correlation between them.\n",
    "\n",
    "##### The greater weight of car, greater it's horsepower,greater it's Cylnders and the lower it's Speed and Mpg.\n",
    "\n",
    "##### Althogh USA has the biggest count of produced cars, its cars has relatively very low mpg  over the years, thus the highest possible weight , Horsepower and cylinders. compared to Asia and Europe.\n",
    "\n",
    "##### Asia is the largest in the production of cars with the highest Mpg with the lowest engine Horsepower ,cylinders and with the lightest cars.compared to USA and Europe."
   ]
  }
 ],
 "metadata": {
  "kernelspec": {
   "display_name": "Python 3",
   "language": "python",
   "name": "python3"
  },
  "language_info": {
   "codemirror_mode": {
    "name": "ipython",
    "version": 3
   },
   "file_extension": ".py",
   "mimetype": "text/x-python",
   "name": "python",
   "nbconvert_exporter": "python",
   "pygments_lexer": "ipython3",
   "version": "3.8.8"
  }
 },
 "nbformat": 4,
 "nbformat_minor": 5
}
